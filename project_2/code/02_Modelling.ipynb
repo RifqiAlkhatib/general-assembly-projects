{
 "cells": [
  {
   "cell_type": "markdown",
   "metadata": {},
   "source": [
    "# Creating Prediction Model\n",
    "\n",
    "We will be creating multiple linear regression models that will try and predict housing prices based on the features in our cleaned datasets. The models will be evaluated based on the root mean squared error (RMSE) of their predictions against the validation set. Once the best production model is found, the final model will then be retrained using the entire training dataset then its test set predictions will be submitted to Kaggle to determine the actual test score.\n",
    "\n",
    "## Contents:\n",
    "- [Finding Production Model](#Finding-Production-Model)\n",
    "- [Submission](#Submission)\n",
    "- [Conclusions](#Conclusions)"
   ]
  },
  {
   "cell_type": "code",
   "execution_count": 1,
   "metadata": {},
   "outputs": [],
   "source": [
    "# Imports\n",
    "import pandas as pd\n",
    "import numpy as np\n",
    "import seaborn as sns\n",
    "import matplotlib.pyplot as plt\n",
    "\n",
    "from sklearn.model_selection import train_test_split, cross_val_score\n",
    "from sklearn.preprocessing import OneHotEncoder, StandardScaler, PolynomialFeatures\n",
    "from sklearn.linear_model import LinearRegression, Lasso, LassoCV, Ridge, RidgeCV\n",
    "from sklearn.feature_selection import RFE\n",
    "import sklearn.metrics as metrics\n",
    "\n",
    "%matplotlib inline"
   ]
  },
  {
   "cell_type": "markdown",
   "metadata": {},
   "source": [
    "## Null Regression\n",
    "\n",
    "First, we will be creating a null regression model using the train target mean as the predicted value. This is the most basic form of prediction we can perform and will serve as the baseline for our model evaluation, i.e. any model we create **must** beat this score."
   ]
  },
  {
   "cell_type": "code",
   "execution_count": 2,
   "metadata": {},
   "outputs": [],
   "source": [
    "test = pd.read_csv('../datasets/test.csv')\n",
    "full_train = pd.read_csv('../datasets/full_train.csv')"
   ]
  },
  {
   "cell_type": "code",
   "execution_count": 3,
   "metadata": {},
   "outputs": [],
   "source": [
    "# Creating dataframe with null regression predictions\n",
    "null_regression = pd.DataFrame({\n",
    "    'Id': [],\n",
    "    'SalePrice': []\n",
    "})\n",
    "\n",
    "null_regression['Id'] = test['Id']\n",
    "null_regression['SalePrice'] = full_train['SalePrice'].mean()"
   ]
  },
  {
   "cell_type": "code",
   "execution_count": 4,
   "metadata": {},
   "outputs": [],
   "source": [
    "# Exporting .csv file for submission to Kaggle\n",
    "null_regression.to_csv('../datasets/null_regression_submission.csv', index=False)"
   ]
  },
  {
   "cell_type": "markdown",
   "metadata": {},
   "source": [
    "Submitting the null regression predictions to Kaggle,\n",
    "\n",
    "![null_regression_score](../images/null_regression_score.png \"Null Regression Score\")"
   ]
  },
  {
   "cell_type": "markdown",
   "metadata": {},
   "source": [
    "## Model Preparation\n",
    "\n",
    "First, we will separate the features matrix `X` from our target vector `y` in the cleaned datasets."
   ]
  },
  {
   "cell_type": "code",
   "execution_count": 5,
   "metadata": {},
   "outputs": [],
   "source": [
    "# Import cleaned datasets\n",
    "X_test = pd.read_csv('../datasets/test_cleaned.csv')\n",
    "train = pd.read_csv('../datasets/partial_train_cleaned.csv')\n",
    "val = pd.read_csv('../datasets/validation_cleaned.csv')\n",
    "full_train = pd.read_csv('../datasets/full_train_cleaned.csv')"
   ]
  },
  {
   "cell_type": "code",
   "execution_count": 6,
   "metadata": {},
   "outputs": [],
   "source": [
    "X_train = train.drop(columns='saleprice')\n",
    "X_val = val.drop(columns='saleprice')\n",
    "y_train = train['saleprice']\n",
    "y_val = val['saleprice']\n",
    "X_full_train = full_train.drop(columns='saleprice')\n",
    "y_full_train = full_train['saleprice']"
   ]
  },
  {
   "cell_type": "markdown",
   "metadata": {},
   "source": [
    "For this dataset, we will be testing 3 different types of models:\n",
    "1. Linear Regression with no penalty\n",
    "2. Ridge Regression (l2 penalty)\n",
    "3. Lasso Regression (l1 penalty)"
   ]
  },
  {
   "cell_type": "markdown",
   "metadata": {},
   "source": [
    "## Full Feature Models\n",
    "\n",
    "First, we will try creating models using all 187 features in our dataset.\n",
    "\n",
    "### Linear Regression"
   ]
  },
  {
   "cell_type": "code",
   "execution_count": 7,
   "metadata": {},
   "outputs": [],
   "source": [
    "# Instantiate\n",
    "lr_full = LinearRegression()"
   ]
  },
  {
   "cell_type": "code",
   "execution_count": 8,
   "metadata": {},
   "outputs": [
    {
     "data": {
      "text/plain": [
       "1896032143655874.5"
      ]
     },
     "execution_count": 8,
     "metadata": {},
     "output_type": "execute_result"
    }
   ],
   "source": [
    "# Cross validation\n",
    "np.abs(cross_val_score(lr_full, X_train, y_train, scoring='neg_root_mean_squared_error').mean())"
   ]
  },
  {
   "cell_type": "code",
   "execution_count": 9,
   "metadata": {},
   "outputs": [
    {
     "data": {
      "text/plain": [
       "5132527322838277.0"
      ]
     },
     "execution_count": 9,
     "metadata": {},
     "output_type": "execute_result"
    }
   ],
   "source": [
    "# Evaluation against validation set\n",
    "lr_full.fit(X_train, y_train)\n",
    "\n",
    "np.sqrt(metrics.mean_squared_error(y_val, lr_full.predict(X_val)))"
   ]
  },
  {
   "cell_type": "markdown",
   "metadata": {},
   "source": [
    "### Ridge Regression"
   ]
  },
  {
   "cell_type": "code",
   "execution_count": 10,
   "metadata": {},
   "outputs": [],
   "source": [
    "# Finding best alpha term\n",
    "r_alphas = np.logspace(0, 5, 200)\n",
    "ridge_cv_full = RidgeCV(alphas=r_alphas, store_cv_values=True)\n",
    "ridge_cv_full.fit(X_train, y_train);"
   ]
  },
  {
   "cell_type": "code",
   "execution_count": 11,
   "metadata": {},
   "outputs": [
    {
     "data": {
      "text/plain": [
       "6.368249944718588"
      ]
     },
     "execution_count": 11,
     "metadata": {},
     "output_type": "execute_result"
    }
   ],
   "source": [
    "# Best alpha\n",
    "ridge_cv_full.alpha_"
   ]
  },
  {
   "cell_type": "code",
   "execution_count": 12,
   "metadata": {},
   "outputs": [],
   "source": [
    "# Instantiate\n",
    "ridge_full = Ridge(alpha=ridge_cv_full.alpha_)"
   ]
  },
  {
   "cell_type": "code",
   "execution_count": 13,
   "metadata": {},
   "outputs": [
    {
     "data": {
      "text/plain": [
       "23179.808296292555"
      ]
     },
     "execution_count": 13,
     "metadata": {},
     "output_type": "execute_result"
    }
   ],
   "source": [
    "# Cross validation\n",
    "np.abs(cross_val_score(ridge_full, X_train, y_train, scoring='neg_root_mean_squared_error').mean())"
   ]
  },
  {
   "cell_type": "code",
   "execution_count": 14,
   "metadata": {},
   "outputs": [
    {
     "data": {
      "text/plain": [
       "79571.38050358884"
      ]
     },
     "execution_count": 14,
     "metadata": {},
     "output_type": "execute_result"
    }
   ],
   "source": [
    "# Evaluation against validation set\n",
    "ridge_full.fit(X_train, y_train)\n",
    "\n",
    "np.sqrt(metrics.mean_squared_error(y_val, ridge_full.predict(X_val)))"
   ]
  },
  {
   "cell_type": "markdown",
   "metadata": {},
   "source": [
    "### Lasso Regression"
   ]
  },
  {
   "cell_type": "code",
   "execution_count": 15,
   "metadata": {},
   "outputs": [],
   "source": [
    "# Finding best alpha term\n",
    "lasso_cv_full = LassoCV(n_alphas=100)\n",
    "lasso_cv_full.fit(X_train, y_train);"
   ]
  },
  {
   "cell_type": "code",
   "execution_count": 16,
   "metadata": {},
   "outputs": [
    {
     "data": {
      "text/plain": [
       "63.65880001118351"
      ]
     },
     "execution_count": 16,
     "metadata": {},
     "output_type": "execute_result"
    }
   ],
   "source": [
    "# Best alpha\n",
    "lasso_cv_full.alpha_"
   ]
  },
  {
   "cell_type": "code",
   "execution_count": 17,
   "metadata": {},
   "outputs": [],
   "source": [
    "# Instantiate\n",
    "lasso_full = Lasso(alpha=lasso_cv_full.alpha_)"
   ]
  },
  {
   "cell_type": "code",
   "execution_count": 18,
   "metadata": {},
   "outputs": [
    {
     "data": {
      "text/plain": [
       "23030.919504499307"
      ]
     },
     "execution_count": 18,
     "metadata": {},
     "output_type": "execute_result"
    }
   ],
   "source": [
    "# Cross validation\n",
    "np.abs(cross_val_score(lasso_full, X_train, y_train, scoring='neg_root_mean_squared_error').mean())"
   ]
  },
  {
   "cell_type": "code",
   "execution_count": 19,
   "metadata": {},
   "outputs": [
    {
     "data": {
      "text/plain": [
       "77536.92200803291"
      ]
     },
     "execution_count": 19,
     "metadata": {},
     "output_type": "execute_result"
    }
   ],
   "source": [
    "# Evaluation against validation set\n",
    "lasso_full.fit(X_train, y_train)\n",
    "\n",
    "np.sqrt(metrics.mean_squared_error(y_val, lasso_full.predict(X_val)))"
   ]
  },
  {
   "cell_type": "markdown",
   "metadata": {},
   "source": [
    "| Model      | No. of Features Input | Cross Val Score | Validation Score (RMSE) |\n",
    "|------------|---------------------|-----------------|-------------------|\n",
    "| null regression       | -                   | -               | 83689.75 (Kaggle) |\n",
    "| lr_full    | 187                 |     1.9E+15     |     5.13E+15      |\n",
    "| ridge_full | 187                 |     23179.81    |     79571.38      |\n",
    "| lasso_full | 187                 |     23030.92    |     77536.92      |\n",
    "\n"
   ]
  },
  {
   "cell_type": "markdown",
   "metadata": {},
   "source": [
    "# Finding Production Model\n",
    "\n",
    "As seen above, the models using all the features did not perform very well. The basic linear regression model had ridiculously large predicted values which led to a huge RMSE score. The ridge & lasso models, while performing substantially better than the basic linear regression model, still had relatively high RMSE scores which were quite close to the null regression score.\n",
    "\n",
    "The reason for these scores are clear - there are too many features included in the model. Many of these features could be considered 'noise', meaningless features that do not contribute to an accurate predictive value. In fact, including these features actually worsens the model performance, leading to a higher RMSE score. This is because these 'noisy' features can still be assigned non-zero coefficients as there will always be some sort of correlation with the target. Thus, the model will be overfitted and will not generalise well to new data.\n",
    "\n",
    "## Feature Selection\n",
    "\n",
    "The best way to resolve this is to cut down on the number of features included in the model. This will help to reduce the variance of the model, leading to better performance and lower RMSE scores. We will explore shortlisting features using two methods, and compare their results:\n",
    "1. Filtering features based on correlation with the target variable\n",
    "2. Recursive Feature Elimination\n",
    "\n",
    "### Filtering Features\n",
    "\n",
    "Here, we take a subset of the relevant features by plotting the Pearson correlation heatmap and selecting the features with the highest correlation with the target variable. The exact number to select is up for interpretation, but we will be going with the top 35 features for now."
   ]
  },
  {
   "cell_type": "code",
   "execution_count": 20,
   "metadata": {
    "scrolled": false
   },
   "outputs": [
    {
     "data": {
      "image/png": "[encoded data removed]",
      "text/plain": [
       "<Figure size 720x720 with 2 Axes>"
      ]
     },
     "metadata": {
      "needs_background": "light"
     },
     "output_type": "display_data"
    }
   ],
   "source": [
    "plt.figure(figsize=(10,10))\n",
    "\n",
    "# Taking absolute value as the sign does not affect the feature's importance\n",
    "corr_target = train.corr()[['saleprice']].abs().sort_values('saleprice',ascending=False)\n",
    "\n",
    "sns.heatmap(\n",
    "    corr_target[1:36],\n",
    "    annot=True,\n",
    "    cmap='coolwarm', \n",
    "    center=0\n",
    ")\n",
    "\n",
    "plt.title('Top 35 Features Correlated with Sale Price\\n', fontsize=20);"
   ]
  },
  {
   "cell_type": "code",
   "execution_count": 21,
   "metadata": {},
   "outputs": [],
   "source": [
    "# Creating list of top 35 correlated features\n",
    "filtered_features = corr_target[1:36].index.tolist()"
   ]
  },
  {
   "cell_type": "markdown",
   "metadata": {},
   "source": [
    "### Recursive Feature Elimination\n",
    "\n",
    "Another strategy we can employ to reduce the number of features is Recursive Feature Elimination (RFE), which works by recursively removing features and rebuilding a particular model on the features that remain. It also gives each feature a ranking based on their coefficient and continues until it hits a specified target. Similar to before, we will be trying to find the top 35 features using each model.\n",
    "\n",
    "#### Linear Regression"
   ]
  },
  {
   "cell_type": "code",
   "execution_count": 22,
   "metadata": {},
   "outputs": [],
   "source": [
    "model = LinearRegression()\n",
    "rfe = RFE(model, n_features_to_select=35)\n",
    "\n",
    "# Fitting to training data\n",
    "X_train_rfe = rfe.fit_transform(X_train, y_train)\n",
    "model.fit(X_train_rfe, y_train)\n",
    "\n",
    "# Tabulating RFE results\n",
    "rfe_results = [np.array(X_train.columns), rfe.ranking_]\n",
    "rfe_results_df = pd.DataFrame(rfe_results).T\n",
    "rfe_results_df.columns = ['Feature', 'RFE Ranking']\n",
    "\n",
    "# Top 35 features\n",
    "rfe_lr_features = rfe_results_df.loc[rfe_results_df['RFE Ranking'] == 1, 'Feature'].tolist()"
   ]
  },
  {
   "cell_type": "markdown",
   "metadata": {},
   "source": [
    "#### Ridge Regression"
   ]
  },
  {
   "cell_type": "code",
   "execution_count": 23,
   "metadata": {},
   "outputs": [],
   "source": [
    "# Using similar alpha for ease of computation\n",
    "model = Ridge(alpha=ridge_cv_full.alpha_)\n",
    "rfe = RFE(model, n_features_to_select=35)\n",
    "\n",
    "# Fitting to training data\n",
    "X_train_rfe = rfe.fit_transform(X_train, y_train)\n",
    "model.fit(X_train_rfe, y_train)\n",
    "\n",
    "# Tabulating RFE results\n",
    "rfe_results = [np.array(X_train.columns), rfe.ranking_]\n",
    "rfe_results_df = pd.DataFrame(rfe_results).T\n",
    "rfe_results_df.columns = ['Feature', 'RFE Ranking']\n",
    "\n",
    "# Top 35 features\n",
    "rfe_ridge_features = rfe_results_df.loc[rfe_results_df['RFE Ranking'] == 1, 'Feature'].tolist()"
   ]
  },
  {
   "cell_type": "markdown",
   "metadata": {},
   "source": [
    "#### Lasso Regression"
   ]
  },
  {
   "cell_type": "code",
   "execution_count": 24,
   "metadata": {},
   "outputs": [],
   "source": [
    "# Using similar alpha for ease of computation\n",
    "model = Lasso(alpha=lasso_cv_full.alpha_, max_iter=10000)\n",
    "rfe = RFE(model, n_features_to_select=35)\n",
    "\n",
    "# Fitting to training data\n",
    "X_train_rfe = rfe.fit_transform(X_train, y_train)\n",
    "model.fit(X_train_rfe, y_train)\n",
    "\n",
    "# Tabulating RFE results\n",
    "rfe_results = [np.array(X_train.columns), rfe.ranking_]\n",
    "rfe_results_df = pd.DataFrame(rfe_results).T\n",
    "rfe_results_df.columns = ['Feature', 'RFE Ranking']\n",
    "\n",
    "# Top 35 features\n",
    "rfe_lasso_features = rfe_results_df.loc[rfe_results_df['RFE Ranking'] == 1, 'Feature'].tolist()"
   ]
  },
  {
   "cell_type": "markdown",
   "metadata": {},
   "source": [
    "### Testing Features Selected\n",
    "\n",
    "We now have 4 different sets of features from our various methods of feature elimination. We will compare their results for each of the regression models."
   ]
  },
  {
   "cell_type": "code",
   "execution_count": 25,
   "metadata": {},
   "outputs": [],
   "source": [
    "reduced_features = [filtered_features, rfe_lr_features, rfe_ridge_features, rfe_lasso_features]"
   ]
  },
  {
   "cell_type": "code",
   "execution_count": 26,
   "metadata": {},
   "outputs": [
    {
     "name": "stdout",
     "output_type": "stream",
     "text": [
      "0\n",
      "CVS: 26040.470574884974\n",
      "Validation Score: 87603.1348576358\n",
      "\n",
      "1\n",
      "CVS: 43022.66261807685\n",
      "Validation Score: 55774.40875465982\n",
      "\n",
      "2\n",
      "CVS: 24163.223269962036\n",
      "Validation Score: 78392.05855815268\n",
      "\n",
      "3\n",
      "CVS: 22914.137375249993\n",
      "Validation Score: 78911.58832602185\n",
      "\n"
     ]
    }
   ],
   "source": [
    "# Linear Regression\n",
    "for i, feature_list in enumerate(reduced_features):\n",
    "    X_train_less = X_train[feature_list]\n",
    "    lr_reduced = LinearRegression()\n",
    "    cvs = np.abs(cross_val_score(lr_reduced, X_train_less, y_train, scoring='neg_root_mean_squared_error').mean())\n",
    "    lr_reduced.fit(X_train_less, y_train)\n",
    "    val_score = np.sqrt(metrics.mean_squared_error(y_val, lr_reduced.predict(X_val[feature_list])))\n",
    "    print(i)\n",
    "    print(f'CVS: {cvs}')\n",
    "    print(f'Validation Score: {val_score}')\n",
    "    print()"
   ]
  },
  {
   "cell_type": "code",
   "execution_count": 27,
   "metadata": {},
   "outputs": [
    {
     "name": "stdout",
     "output_type": "stream",
     "text": [
      "0\n",
      "CVS: 25995.600074963797\n",
      "Validation Score: 84717.50240945362\n",
      "\n",
      "1\n",
      "CVS: 42790.002386615626\n",
      "Validation Score: 55458.198381557995\n",
      "\n",
      "2\n",
      "CVS: 24125.743451986335\n",
      "Validation Score: 78573.0127805681\n",
      "\n",
      "3\n",
      "CVS: 22948.29230388729\n",
      "Validation Score: 78917.21577304168\n",
      "\n"
     ]
    }
   ],
   "source": [
    "# Ridge Regression\n",
    "for i, feature_list in enumerate(reduced_features):\n",
    "    X_train_less = X_train[feature_list]\n",
    "    r_alphas = np.logspace(0, 5, 200)\n",
    "    ridge_cv_red = RidgeCV(alphas=r_alphas, store_cv_values=True)\n",
    "    ridge_cv_red.fit(X_train_less, y_train)\n",
    "    ridge_red = Ridge(alpha=ridge_cv_red.alpha_)\n",
    "    cvs = np.abs(cross_val_score(ridge_red, X_train_less, y_train, scoring='neg_root_mean_squared_error').mean())\n",
    "    ridge_red.fit(X_train_less, y_train)\n",
    "    val_score = np.sqrt(metrics.mean_squared_error(y_val, ridge_red.predict(X_val[feature_list])))\n",
    "    print(i)\n",
    "    print(f'CVS: {cvs}')\n",
    "    print(f'Validation Score: {val_score}')\n",
    "    print()"
   ]
  },
  {
   "cell_type": "code",
   "execution_count": 28,
   "metadata": {},
   "outputs": [
    {
     "name": "stdout",
     "output_type": "stream",
     "text": [
      "0\n",
      "CVS: 26022.989003083985\n",
      "Validation Score: 84099.84657457471\n",
      "\n",
      "1\n",
      "CVS: 42807.65332482317\n",
      "Validation Score: 55290.5800072872\n",
      "\n",
      "2\n",
      "CVS: 24360.65554182548\n",
      "Validation Score: 79196.55601377807\n",
      "\n",
      "3\n",
      "CVS: 23221.004421087564\n",
      "Validation Score: 78289.30556672976\n",
      "\n"
     ]
    }
   ],
   "source": [
    "# Lasso Regression\n",
    "for i, feature_list in enumerate(reduced_features):\n",
    "    X_train_less = X_train[feature_list]\n",
    "    lasso_cv_red = LassoCV(n_alphas=100)\n",
    "    lasso_cv_red.fit(X_train_less, y_train)\n",
    "    lasso_red = Lasso(alpha=lasso_cv_red.alpha_)\n",
    "    cvs = np.abs(cross_val_score(lasso_red, X_train_less, y_train, scoring='neg_root_mean_squared_error').mean())\n",
    "    lasso_red.fit(X_train_less, y_train)\n",
    "    val_score = np.sqrt(metrics.mean_squared_error(y_val, lasso_red.predict(X_val[feature_list])))\n",
    "    print(i)\n",
    "    print(f'CVS: {cvs}')\n",
    "    print(f'Validation Score: {val_score}')\n",
    "    print()"
   ]
  },
  {
   "cell_type": "markdown",
   "metadata": {},
   "source": [
    "| Feature List      | No. of Features | LR CVS   | LR Validation Score | Ridge CVS | Ridge Validation Score | Lasso CVS | Lasso Validation Score |\n",
    "|-------------------|-----------------|----------|---------------------|-----------|------------------------|-----------|------------------------|\n",
    "| Filtered Features | 35              | 26040.47 | 87603.13            | 25995.6   | 84717.5                | 26022.99  | 84099.85               |\n",
    "| RFE (LR)          | 35              | 43022.66 | 55774.41            | 42790     | 55458.2                | 42807.65  | 55290.58               |\n",
    "| RFE (Ridge)       | 35              | 24163.22 | 78392.06            | 24125.74  | 78573.01               | 24360.66  | 79196.56               |\n",
    "| RFE (Lasso)       | 35              | 22914.14 | 78911.59            | 22948.29  | 78917.22               | 23221     | 78289.31               |\n"
   ]
  },
  {
   "cell_type": "markdown",
   "metadata": {},
   "source": [
    "As can be seen above, they generally performed similarly to each other, with the exception of linear regression RFE, which had surprisingly high cross validation scores and low validation scores against the validation set. However, upon inspecting the feature list further, it appears that the RFE (LR) method produced a feature list which was largly made up of nominal features.\n",
    "\n",
    "This method would have too high a bias despite the lower variance, and may not be accurate enough for our purposes as the features in the list are not very descriptive as a whole. Overall, the Lasso RFE method seems to produce the best results."
   ]
  },
  {
   "cell_type": "markdown",
   "metadata": {},
   "source": [
    "### Combining RFE & Filter\n",
    "\n",
    "Perhaps a better method would be to reduce the number of features by filtering based on correlation to sale price, then applying RFE to select the best features."
   ]
  },
  {
   "cell_type": "code",
   "execution_count": 29,
   "metadata": {},
   "outputs": [],
   "source": [
    "# Filtering by correlation with saleprice\n",
    "corr_target_comb = train.corr()[['saleprice']].abs().sort_values('saleprice',ascending=False)\n",
    "filtered_features_comb = corr_target[1:76].index.tolist()"
   ]
  },
  {
   "cell_type": "code",
   "execution_count": 30,
   "metadata": {},
   "outputs": [],
   "source": [
    "# Use Lasso RFE, test with different numbers of features\n",
    "feature_list_dict = {}\n",
    "for no_of_features in [20, 25, 30, 35]:\n",
    "    X_train_comb = X_train[filtered_features_comb]\n",
    "    lasso_cv_comb = LassoCV(n_alphas=100)\n",
    "    lasso_cv_comb.fit(X_train_comb, y_train)\n",
    "    model = Lasso(alpha=lasso_cv_comb.alpha_, max_iter=10000)\n",
    "    rfe = RFE(model, n_features_to_select=no_of_features)\n",
    "\n",
    "    # Fitting to training data\n",
    "    X_train_rfe = rfe.fit_transform(X_train_comb, y_train)\n",
    "    model.fit(X_train_rfe, y_train)\n",
    "\n",
    "    # Tabulating RFE results\n",
    "    rfe_results = [np.array(X_train_comb.columns), rfe.ranking_]\n",
    "    rfe_results_df = pd.DataFrame(rfe_results).T\n",
    "    rfe_results_df.columns = ['Feature', 'RFE Ranking']\n",
    "\n",
    "    # Top features\n",
    "    rfe_lasso_features_comb = rfe_results_df.loc[rfe_results_df['RFE Ranking'] == 1, 'Feature'].tolist()\n",
    "    feature_list_dict[no_of_features] = rfe_lasso_features_comb"
   ]
  },
  {
   "cell_type": "markdown",
   "metadata": {},
   "source": [
    "Testing each list of features:"
   ]
  },
  {
   "cell_type": "code",
   "execution_count": 31,
   "metadata": {},
   "outputs": [
    {
     "name": "stdout",
     "output_type": "stream",
     "text": [
      "20\n",
      "CVS: 25623.79241757507\n",
      "Validation Score: 87152.85837576163\n",
      "\n",
      "25\n",
      "CVS: 25150.088238894397\n",
      "Validation Score: 88179.54531716209\n",
      "\n",
      "30\n",
      "CVS: 24776.496810233562\n",
      "Validation Score: 85453.67210801247\n",
      "\n",
      "35\n",
      "CVS: 24496.365882088106\n",
      "Validation Score: 80448.75965286451\n",
      "\n"
     ]
    }
   ],
   "source": [
    "# Linear Regression\n",
    "for i, feature_list in feature_list_dict.items():\n",
    "    X_train_less = X_train[feature_list]\n",
    "    lr_reduced = LinearRegression()\n",
    "    cvs = np.abs(cross_val_score(lr_reduced, X_train_less, y_train, scoring='neg_root_mean_squared_error').mean())\n",
    "    lr_reduced.fit(X_train_less, y_train)\n",
    "    val_score = np.sqrt(metrics.mean_squared_error(y_val, lr_reduced.predict(X_val[feature_list])))\n",
    "    print(i)\n",
    "    print(f'CVS: {cvs}')\n",
    "    print(f'Validation Score: {val_score}')\n",
    "    print()"
   ]
  },
  {
   "cell_type": "code",
   "execution_count": 32,
   "metadata": {},
   "outputs": [
    {
     "name": "stdout",
     "output_type": "stream",
     "text": [
      "20\n",
      "CVS: 25615.53141260896\n",
      "Validation Score: 86218.13406576746\n",
      "\n",
      "25\n",
      "CVS: 25129.715077353016\n",
      "Validation Score: 87302.82221133047\n",
      "\n",
      "30\n",
      "CVS: 24750.55070556042\n",
      "Validation Score: 84405.0115851766\n",
      "\n",
      "35\n",
      "CVS: 24460.35114577307\n",
      "Validation Score: 79223.22122558298\n",
      "\n"
     ]
    }
   ],
   "source": [
    "# Ridge Regression\n",
    "for i, feature_list in feature_list_dict.items():\n",
    "    X_train_less = X_train[feature_list]\n",
    "    r_alphas = np.logspace(0, 5, 200)\n",
    "    ridge_cv_red = RidgeCV(alphas=r_alphas, store_cv_values=True)\n",
    "    ridge_cv_red.fit(X_train_less, y_train)\n",
    "    ridge_red = Ridge(alpha=ridge_cv_red.alpha_)\n",
    "    cvs = np.abs(cross_val_score(ridge_red, X_train_less, y_train, scoring='neg_root_mean_squared_error').mean())\n",
    "    ridge_red.fit(X_train_less, y_train)\n",
    "    val_score = np.sqrt(metrics.mean_squared_error(y_val, ridge_red.predict(X_val[feature_list])))\n",
    "    print(i)\n",
    "    print(f'CVS: {cvs}')\n",
    "    print(f'Validation Score: {val_score}')\n",
    "    print()"
   ]
  },
  {
   "cell_type": "code",
   "execution_count": 33,
   "metadata": {},
   "outputs": [
    {
     "name": "stdout",
     "output_type": "stream",
     "text": [
      "20\n",
      "CVS: 25672.330380290656\n",
      "Validation Score: 85773.27177083187\n",
      "\n",
      "25\n",
      "CVS: 25227.762202298396\n",
      "Validation Score: 86079.81945662334\n",
      "\n",
      "30\n",
      "CVS: 24861.41324810941\n",
      "Validation Score: 83118.73818533286\n",
      "\n",
      "35\n",
      "CVS: 24600.17485912016\n",
      "Validation Score: 78229.85930907184\n",
      "\n"
     ]
    }
   ],
   "source": [
    "# Lasso Regression\n",
    "for i, feature_list in feature_list_dict.items():\n",
    "    X_train_less = X_train[feature_list]\n",
    "    lasso_cv_red = LassoCV(n_alphas=100)\n",
    "    lasso_cv_red.fit(X_train_less, y_train)\n",
    "    lasso_red = Lasso(alpha=lasso_cv_red.alpha_)\n",
    "    cvs = np.abs(cross_val_score(lasso_red, X_train_less, y_train, scoring='neg_root_mean_squared_error').mean())\n",
    "    lasso_red.fit(X_train_less, y_train)\n",
    "    val_score = np.sqrt(metrics.mean_squared_error(y_val, lasso_red.predict(X_val[feature_list])))\n",
    "    print(i)\n",
    "    print(f'CVS: {cvs}')\n",
    "    print(f'Validation Score: {val_score}')\n",
    "    print()"
   ]
  },
  {
   "cell_type": "markdown",
   "metadata": {},
   "source": [
    "| No. of Features | LR CVS   | LR Validation Score | Ridge CVS | Ridge Validation Score | Lasso CVS | Lasso Validation Score |\n",
    "|-----------------|----------|---------------------|-----------|------------------------|-----------|------------------------|\n",
    "| 20              | 25623.79 | 87152.86            | 25615.53  | 86218.1341             | 25672.33  | 85773.27               |\n",
    "| 25              | 25150.09 | 88179.55            | 25129.72  | 87302.8222             | 25227.76  | 86079.82               |\n",
    "| 30              | 24776.5  | 85453.67            | 24750.55  | 84405.0116             | 24861.41  | 83118.74               |\n",
    "| 35              | 24496.37 | 80448.76            | 24460.35  | 79223.2212             | 24600.17  | 78229.86               |\n"
   ]
  },
  {
   "cell_type": "markdown",
   "metadata": {},
   "source": [
    "Based on the comparison, it appears that the more features there were, the better the predictions. However, we should be careful not to include too many features into the model as it could introduce noise and affect the actual predictions. Additionally, limiting the number of features to 35 would produce an easily interpretable model, which home-owners and home-buyers would be appreciative of."
   ]
  },
  {
   "cell_type": "code",
   "execution_count": 34,
   "metadata": {},
   "outputs": [],
   "source": [
    "final_feature_list = feature_list_dict[35]"
   ]
  },
  {
   "cell_type": "markdown",
   "metadata": {},
   "source": [
    "# Submission\n",
    "\n",
    "\n",
    "Kaggle expects submissions in a specific format. We will re-train the model on the entire training dataset (including the validation set) in order for the model to have more information and perform better, then format the submission file."
   ]
  },
  {
   "cell_type": "code",
   "execution_count": 35,
   "metadata": {},
   "outputs": [],
   "source": [
    "# Retrain model on entire training dataset\n",
    "X_final = X_full_train[final_feature_list]\n",
    "\n",
    "# Finding best alpha\n",
    "r_alphas = np.logspace(0, 5, 200)\n",
    "lasso_cv_final = LassoCV(n_alphas=100)\n",
    "lasso_cv_final.fit(X_final, y_full_train)\n",
    "\n",
    "# Creating final model\n",
    "model_final = Lasso(alpha=lasso_cv_final.alpha_)\n",
    "model_final.fit(X_final, y_full_train)\n",
    "\n",
    "# Creating predictions on test set\n",
    "test_preds = model_final.predict(X_test[final_feature_list])"
   ]
  },
  {
   "cell_type": "code",
   "execution_count": 36,
   "metadata": {},
   "outputs": [],
   "source": [
    "# Creating dataframe with final predicted values\n",
    "final_sub = pd.DataFrame({\n",
    "    'Id': [],\n",
    "    'SalePrice': []\n",
    "})\n",
    "\n",
    "final_sub['Id'] = test['Id']\n",
    "final_sub['SalePrice'] = test_preds"
   ]
  },
  {
   "cell_type": "code",
   "execution_count": 37,
   "metadata": {},
   "outputs": [
    {
     "data": {
      "text/html": [
       "<div>\n",
       "<style scoped>\n",
       "    .dataframe tbody tr th:only-of-type {\n",
       "        vertical-align: middle;\n",
       "    }\n",
       "\n",
       "    .dataframe tbody tr th {\n",
       "        vertical-align: top;\n",
       "    }\n",
       "\n",
       "    .dataframe thead th {\n",
       "        text-align: right;\n",
       "    }\n",
       "</style>\n",
       "<table border=\"1\" class=\"dataframe\">\n",
       "  <thead>\n",
       "    <tr style=\"text-align: right;\">\n",
       "      <th></th>\n",
       "      <th>Id</th>\n",
       "      <th>SalePrice</th>\n",
       "    </tr>\n",
       "  </thead>\n",
       "  <tbody>\n",
       "    <tr>\n",
       "      <th>0</th>\n",
       "      <td>2658</td>\n",
       "      <td>124333.172213</td>\n",
       "    </tr>\n",
       "    <tr>\n",
       "      <th>1</th>\n",
       "      <td>2718</td>\n",
       "      <td>174815.740490</td>\n",
       "    </tr>\n",
       "    <tr>\n",
       "      <th>2</th>\n",
       "      <td>2414</td>\n",
       "      <td>232389.627236</td>\n",
       "    </tr>\n",
       "    <tr>\n",
       "      <th>3</th>\n",
       "      <td>1989</td>\n",
       "      <td>113903.623608</td>\n",
       "    </tr>\n",
       "    <tr>\n",
       "      <th>4</th>\n",
       "      <td>625</td>\n",
       "      <td>166689.162981</td>\n",
       "    </tr>\n",
       "    <tr>\n",
       "      <th>...</th>\n",
       "      <td>...</td>\n",
       "      <td>...</td>\n",
       "    </tr>\n",
       "    <tr>\n",
       "      <th>874</th>\n",
       "      <td>1662</td>\n",
       "      <td>188297.644173</td>\n",
       "    </tr>\n",
       "    <tr>\n",
       "      <th>875</th>\n",
       "      <td>1234</td>\n",
       "      <td>217557.506734</td>\n",
       "    </tr>\n",
       "    <tr>\n",
       "      <th>876</th>\n",
       "      <td>1373</td>\n",
       "      <td>132244.761327</td>\n",
       "    </tr>\n",
       "    <tr>\n",
       "      <th>877</th>\n",
       "      <td>1672</td>\n",
       "      <td>112360.247415</td>\n",
       "    </tr>\n",
       "    <tr>\n",
       "      <th>878</th>\n",
       "      <td>1939</td>\n",
       "      <td>129509.787969</td>\n",
       "    </tr>\n",
       "  </tbody>\n",
       "</table>\n",
       "<p>879 rows × 2 columns</p>\n",
       "</div>"
      ],
      "text/plain": [
       "       Id      SalePrice\n",
       "0    2658  124333.172213\n",
       "1    2718  174815.740490\n",
       "2    2414  232389.627236\n",
       "3    1989  113903.623608\n",
       "4     625  166689.162981\n",
       "..    ...            ...\n",
       "874  1662  188297.644173\n",
       "875  1234  217557.506734\n",
       "876  1373  132244.761327\n",
       "877  1672  112360.247415\n",
       "878  1939  129509.787969\n",
       "\n",
       "[879 rows x 2 columns]"
      ]
     },
     "execution_count": 37,
     "metadata": {},
     "output_type": "execute_result"
    }
   ],
   "source": [
    "# Checking format & no. of rows\n",
    "final_sub"
   ]
  },
  {
   "cell_type": "code",
   "execution_count": 38,
   "metadata": {},
   "outputs": [],
   "source": [
    "# Export for submission\n",
    "final_sub.to_csv('../datasets/final_submission.csv', index=False)"
   ]
  },
  {
   "cell_type": "markdown",
   "metadata": {},
   "source": [
    "![final_rmse_score](../images/final_rmse_score.png \"Final RMSE Score\")"
   ]
  },
  {
   "cell_type": "markdown",
   "metadata": {},
   "source": [
    "# Conclusions\n",
    "\n",
    "Our model returned a pretty decent RMSE score of just over 23,000. As compared to the null regression (83689), it shows that our model would quite a fair bit of value to home-owners who would want to predict the sale price of their homes. This resolves our problem statement, **How can we best predict the sale price of a house using a linear regression model?**"
   ]
  },
  {
   "cell_type": "markdown",
   "metadata": {},
   "source": [
    "## Interpreting Coefficients\n",
    "\n",
    "Feature coefficients can be simply interpreted as `Bx` in the linear regression equation: `Y = B0 + B1X1 + ... + BxXx + e`\n",
    "\n",
    "`B0` represents the intercept while `Bx` represents the slope parameter. For instance,"
   ]
  },
  {
   "cell_type": "code",
   "execution_count": 39,
   "metadata": {},
   "outputs": [
    {
     "data": {
      "text/plain": [
       "'overall_qual'"
      ]
     },
     "execution_count": 39,
     "metadata": {},
     "output_type": "execute_result"
    }
   ],
   "source": [
    "final_feature_list[0]"
   ]
  },
  {
   "cell_type": "code",
   "execution_count": 40,
   "metadata": {},
   "outputs": [
    {
     "data": {
      "text/plain": [
       "17232.647437522442"
      ]
     },
     "execution_count": 40,
     "metadata": {},
     "output_type": "execute_result"
    }
   ],
   "source": [
    "model_final.coef_[0]"
   ]
  },
  {
   "cell_type": "code",
   "execution_count": 41,
   "metadata": {},
   "outputs": [
    {
     "data": {
      "text/plain": [
       "167665.7261968751"
      ]
     },
     "execution_count": 41,
     "metadata": {},
     "output_type": "execute_result"
    }
   ],
   "source": [
    "model_final.intercept_"
   ]
  },
  {
   "cell_type": "markdown",
   "metadata": {},
   "source": [
    "Suggests that `overall_qual` impact on our model is as follows:\n",
    "`sale_price` = 167665.73 + 17232.65(`overall_qual`)\n",
    "\n",
    "Meaning to say, a one unit increase in overall quality of the house would relate to a predicted increase in sale price of $17,232."
   ]
  },
  {
   "cell_type": "markdown",
   "metadata": {},
   "source": [
    "## Recommendations\n",
    "\n",
    "We can interpret the model further by finding features that appear to add the most value to a home, which would be useful information to home owners."
   ]
  },
  {
   "cell_type": "code",
   "execution_count": 42,
   "metadata": {},
   "outputs": [],
   "source": [
    "coefs = pd.DataFrame([final_feature_list, model_final.coef_]).T"
   ]
  },
  {
   "cell_type": "code",
   "execution_count": 43,
   "metadata": {},
   "outputs": [],
   "source": [
    "coefs.columns = ['feature', 'Coefficient']"
   ]
  },
  {
   "cell_type": "code",
   "execution_count": 44,
   "metadata": {},
   "outputs": [
    {
     "data": {
      "text/html": [
       "<div>\n",
       "<style scoped>\n",
       "    .dataframe tbody tr th:only-of-type {\n",
       "        vertical-align: middle;\n",
       "    }\n",
       "\n",
       "    .dataframe tbody tr th {\n",
       "        vertical-align: top;\n",
       "    }\n",
       "\n",
       "    .dataframe thead th {\n",
       "        text-align: right;\n",
       "    }\n",
       "</style>\n",
       "<table border=\"1\" class=\"dataframe\">\n",
       "  <thead>\n",
       "    <tr style=\"text-align: right;\">\n",
       "      <th></th>\n",
       "      <th>feature</th>\n",
       "      <th>Coefficient</th>\n",
       "    </tr>\n",
       "  </thead>\n",
       "  <tbody>\n",
       "    <tr>\n",
       "      <th>23</th>\n",
       "      <td>x4_StoneBr</td>\n",
       "      <td>25104.6</td>\n",
       "    </tr>\n",
       "    <tr>\n",
       "      <th>17</th>\n",
       "      <td>gr_liv_area_2nd_flr_sf</td>\n",
       "      <td>22358.8</td>\n",
       "    </tr>\n",
       "    <tr>\n",
       "      <th>12</th>\n",
       "      <td>x4_NridgHt</td>\n",
       "      <td>21036.6</td>\n",
       "    </tr>\n",
       "    <tr>\n",
       "      <th>2</th>\n",
       "      <td>1st_flr_sf_total_bsmt_sf</td>\n",
       "      <td>19610.2</td>\n",
       "    </tr>\n",
       "    <tr>\n",
       "      <th>15</th>\n",
       "      <td>x14_New</td>\n",
       "      <td>19360.9</td>\n",
       "    </tr>\n",
       "    <tr>\n",
       "      <th>0</th>\n",
       "      <td>overall_qual</td>\n",
       "      <td>17232.6</td>\n",
       "    </tr>\n",
       "    <tr>\n",
       "      <th>1</th>\n",
       "      <td>gr_liv_area_1st_flr_sf</td>\n",
       "      <td>13022.5</td>\n",
       "    </tr>\n",
       "    <tr>\n",
       "      <th>31</th>\n",
       "      <td>x2_HLS</td>\n",
       "      <td>12754</td>\n",
       "    </tr>\n",
       "  </tbody>\n",
       "</table>\n",
       "</div>"
      ],
      "text/plain": [
       "                     feature Coefficient\n",
       "23                x4_StoneBr     25104.6\n",
       "17    gr_liv_area_2nd_flr_sf     22358.8\n",
       "12                x4_NridgHt     21036.6\n",
       "2   1st_flr_sf_total_bsmt_sf     19610.2\n",
       "15                   x14_New     19360.9\n",
       "0               overall_qual     17232.6\n",
       "1     gr_liv_area_1st_flr_sf     13022.5\n",
       "31                    x2_HLS       12754"
      ]
     },
     "execution_count": 44,
     "metadata": {},
     "output_type": "execute_result"
    }
   ],
   "source": [
    "coefs.sort_values(by='Coefficient', ascending=False).head(8)"
   ]
  },
  {
   "cell_type": "markdown",
   "metadata": {},
   "source": [
    "The features with the highest coefficients include physical neighbourhood locations (`StoneBr` and `NrigHt`), which suggests that these are exclusive neighbourhoods with high property values. There are also 3 interaction features relating to the size of the house, which explains that the bigger the house, the higher its value. The `overall_qual` of the house is also an important factor in increasing the sale price of the house."
   ]
  },
  {
   "cell_type": "code",
   "execution_count": 45,
   "metadata": {},
   "outputs": [
    {
     "data": {
      "text/html": [
       "<div>\n",
       "<style scoped>\n",
       "    .dataframe tbody tr th:only-of-type {\n",
       "        vertical-align: middle;\n",
       "    }\n",
       "\n",
       "    .dataframe tbody tr th {\n",
       "        vertical-align: top;\n",
       "    }\n",
       "\n",
       "    .dataframe thead th {\n",
       "        text-align: right;\n",
       "    }\n",
       "</style>\n",
       "<table border=\"1\" class=\"dataframe\">\n",
       "  <thead>\n",
       "    <tr style=\"text-align: right;\">\n",
       "      <th></th>\n",
       "      <th>feature</th>\n",
       "      <th>Coefficient</th>\n",
       "    </tr>\n",
       "  </thead>\n",
       "  <tbody>\n",
       "    <tr>\n",
       "      <th>9</th>\n",
       "      <td>property_age</td>\n",
       "      <td>-8162.77</td>\n",
       "    </tr>\n",
       "    <tr>\n",
       "      <th>21</th>\n",
       "      <td>x1_RM</td>\n",
       "      <td>-7769.59</td>\n",
       "    </tr>\n",
       "    <tr>\n",
       "      <th>29</th>\n",
       "      <td>x8_Wd Sdng</td>\n",
       "      <td>-6632.38</td>\n",
       "    </tr>\n",
       "    <tr>\n",
       "      <th>3</th>\n",
       "      <td>gr_liv_area</td>\n",
       "      <td>-6558.28</td>\n",
       "    </tr>\n",
       "    <tr>\n",
       "      <th>28</th>\n",
       "      <td>2nd_flr_sf</td>\n",
       "      <td>-4720.94</td>\n",
       "    </tr>\n",
       "    <tr>\n",
       "      <th>6</th>\n",
       "      <td>total_bsmt_sf</td>\n",
       "      <td>-4603.68</td>\n",
       "    </tr>\n",
       "    <tr>\n",
       "      <th>16</th>\n",
       "      <td>x11_CBlock</td>\n",
       "      <td>-4036.95</td>\n",
       "    </tr>\n",
       "    <tr>\n",
       "      <th>30</th>\n",
       "      <td>bsmt_unf_sf</td>\n",
       "      <td>-2862.24</td>\n",
       "    </tr>\n",
       "  </tbody>\n",
       "</table>\n",
       "</div>"
      ],
      "text/plain": [
       "          feature Coefficient\n",
       "9    property_age    -8162.77\n",
       "21          x1_RM    -7769.59\n",
       "29     x8_Wd Sdng    -6632.38\n",
       "3     gr_liv_area    -6558.28\n",
       "28     2nd_flr_sf    -4720.94\n",
       "6   total_bsmt_sf    -4603.68\n",
       "16     x11_CBlock    -4036.95\n",
       "30    bsmt_unf_sf    -2862.24"
      ]
     },
     "execution_count": 45,
     "metadata": {},
     "output_type": "execute_result"
    }
   ],
   "source": [
    "coefs.sort_values(by='Coefficient', ascending=True).head(8)"
   ]
  },
  {
   "cell_type": "markdown",
   "metadata": {},
   "source": [
    "Conversely, features like an aging house, wooden sidings and a large unfinished basement could lead to a lower sale price."
   ]
  }
 ],
 "metadata": {
  "kernelspec": {
   "display_name": "Python 3",
   "language": "python",
   "name": "python3"
  },
  "language_info": {
   "codemirror_mode": {
    "name": "ipython",
    "version": 3
   },
   "file_extension": ".py",
   "mimetype": "text/x-python",
   "name": "python",
   "nbconvert_exporter": "python",
   "pygments_lexer": "ipython3",
   "version": "3.8.5"
  }
 },
 "nbformat": 4,
 "nbformat_minor": 4
}
